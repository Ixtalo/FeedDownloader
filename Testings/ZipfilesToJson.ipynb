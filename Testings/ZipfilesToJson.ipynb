{
 "cells": [
  {
   "cell_type": "code",
   "execution_count": 11,
   "metadata": {},
   "outputs": [],
   "source": [
    "import os\n",
    "import glob\n",
    "import zipfile\n",
    "import json\n",
    "import feedparser"
   ]
  },
  {
   "cell_type": "code",
   "execution_count": 36,
   "metadata": {
    "scrolled": false
   },
   "outputs": [],
   "source": [
    "entries = []\n",
    "for fn in glob.iglob('*.zip'):\n",
    "    #print(fn)\n",
    "    bn = os.path.splitext(os.path.basename(fn))[0]\n",
    "    with zipfile.ZipFile(fn) as zipf:\n",
    "        xml_str = zipf.read(\"%s.xml\" % bn)\n",
    "        feed = feedparser.parse(xml_str)\n",
    "        \n",
    "        for entry in feed.entries:\n",
    "            nr = os.path.basename(entry.link)\n",
    "            html_str = zipf.read(\"%s.html\" % nr)\n",
    "            entry.content[0]['value'] = html_str.decode()\n",
    "        \n",
    "        entries += feed.entries\n",
    "\n",
    "with open(\"out.json\", \"w\") as fout:\n",
    "    json.dump(entries, fout)"
   ]
  }
 ],
 "metadata": {
  "kernelspec": {
   "display_name": "Python 3",
   "language": "python",
   "name": "python3"
  },
  "language_info": {
   "codemirror_mode": {
    "name": "ipython",
    "version": 3
   },
   "file_extension": ".py",
   "mimetype": "text/x-python",
   "name": "python",
   "nbconvert_exporter": "python",
   "pygments_lexer": "ipython3",
   "version": "3.8.2"
  }
 },
 "nbformat": 4,
 "nbformat_minor": 4
}
