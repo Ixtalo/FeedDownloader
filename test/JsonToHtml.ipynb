{
 "cells": [
  {
   "cell_type": "code",
   "execution_count": 66,
   "metadata": {},
   "outputs": [],
   "source": [
    "import json\n",
    "import io\n",
    "from bs4 import BeautifulSoup"
   ]
  },
  {
   "cell_type": "code",
   "execution_count": 67,
   "metadata": {},
   "outputs": [],
   "source": [
    "INPUT_FILE='/home/stc/Work/i/polizei/polka.json'\n",
    "entries = json.load(open(INPUT_FILE))"
   ]
  },
  {
   "cell_type": "code",
   "execution_count": 68,
   "metadata": {},
   "outputs": [],
   "source": [
    "html = io.StringIO()\n",
    "for entry in entries:\n",
    "    soup = BeautifulSoup(entry['content'][0]['value'])\n",
    "    #html.write(soup.select(\".card > p:nth-child(n+6)\")[0].text)\n",
    "    html.write(soup.select(\".card\")[0].text)\n"
   ]
  },
  {
   "cell_type": "code",
   "execution_count": 69,
   "metadata": {},
   "outputs": [],
   "source": [
    "with open(\"%s.html\"%INPUT_FILE,'w') as fout:\n",
    "    fout.write(html.getvalue())"
   ]
  }
 ],
 "metadata": {
  "kernelspec": {
   "display_name": "Python 3",
   "language": "python",
   "name": "python3"
  },
  "language_info": {
   "codemirror_mode": {
    "name": "ipython",
    "version": 3
   },
   "file_extension": ".py",
   "mimetype": "text/x-python",
   "name": "python",
   "nbconvert_exporter": "python",
   "pygments_lexer": "ipython3",
   "version": "3.8.2"
  }
 },
 "nbformat": 4,
 "nbformat_minor": 4
}
